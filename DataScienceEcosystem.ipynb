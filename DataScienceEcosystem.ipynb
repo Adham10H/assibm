{
 "cells": [
  {
   "cell_type": "markdown",
   "id": "a8e881c7-44a7-40b8-a4b5-942296e10f22",
   "metadata": {},
   "source": [
    "# Data Science Tools and Ecosystem"
   ]
  },
  {
   "cell_type": "markdown",
   "id": "6b686b52-237a-47d2-9d0b-7e411b591627",
   "metadata": {},
   "source": [
    "# In this notebook, Data Science Tools and Ecosystem are summarized."
   ]
  },
  {
   "cell_type": "markdown",
   "id": "4649fe4a-a308-486a-9fdf-0c9c310c097c",
   "metadata": {},
   "source": [
    "### Some of the popular languages that Data Scientists use are:\n",
    "\n",
    "1. Python\n",
    "2. R\n",
    "3. SQL\n",
    "4. Julia\n",
    "5. Java"
   ]
  },
  {
   "cell_type": "markdown",
   "id": "0677669b-a085-4c98-a288-3e90c17da985",
   "metadata": {},
   "source": [
    "### Some of the commonly used libraries used by Data Scientists include:\n",
    "\n",
    "1. NumPy\n",
    "2. Pandas\n",
    "3. Matplotlib\n",
    "4. Seaborn\n"
   ]
  },
  {
   "cell_type": "markdown",
   "id": "d2090a14-a450-497c-a7fe-5e8efb76dc00",
   "metadata": {},
   "source": [
    "| Data Science Tools | \n",
    "| ------------------ |\n",
    "| Jupyter Notebooks |\n",
    "| Scikit-learn |\n",
    "| GitHub |"
   ]
  },
  {
   "cell_type": "markdown",
   "id": "3ed629c2-4e68-4a27-a5f3-bb8996b6edc8",
   "metadata": {},
   "source": [
    "### Below are a few examples of evaluating arithmetic expressions in Python\n",
    "\n",
    "2+5 \n",
    "\n",
    "10-7 \n",
    "\n",
    "2*5\n",
    "\n",
    "12/3\n"
   ]
  },
  {
   "cell_type": "code",
   "execution_count": 14,
   "id": "766cccd4-ae32-4b90-93da-e21ad133fe1e",
   "metadata": {},
   "outputs": [
    {
     "data": {
      "text/plain": [
       "17"
      ]
     },
     "execution_count": 14,
     "metadata": {},
     "output_type": "execute_result"
    }
   ],
   "source": [
    "# This a simple arithmetic expression to mutiply then add integers\n",
    "(3*4)+5"
   ]
  },
  {
   "cell_type": "code",
   "execution_count": 17,
   "id": "3073653a-d3e8-4efb-9b57-9e37bbbf2ef1",
   "metadata": {},
   "outputs": [
    {
     "data": {
      "text/plain": [
       "3.3333333333333335"
      ]
     },
     "execution_count": 17,
     "metadata": {},
     "output_type": "execute_result"
    }
   ],
   "source": [
    "# This will convert 200 minutes to hours by diving by 60 \n",
    "200/60"
   ]
  },
  {
   "cell_type": "markdown",
   "id": "a323c5a4-f438-406f-95ac-3b9e2b8474ec",
   "metadata": {},
   "source": [
    "## Author \n",
    "adham "
   ]
  }
 ],
 "metadata": {
  "kernelspec": {
   "display_name": "Python 3 (ipykernel)",
   "language": "python",
   "name": "python3"
  },
  "language_info": {
   "codemirror_mode": {
    "name": "ipython",
    "version": 3
   },
   "file_extension": ".py",
   "mimetype": "text/x-python",
   "name": "python",
   "nbconvert_exporter": "python",
   "pygments_lexer": "ipython3",
   "version": "3.11.5"
  }
 },
 "nbformat": 4,
 "nbformat_minor": 5
}
